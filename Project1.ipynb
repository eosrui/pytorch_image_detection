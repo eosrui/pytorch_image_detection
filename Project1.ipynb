{
 "cells": [
  {
   "cell_type": "code",
   "execution_count": 55,
   "metadata": {},
   "outputs": [],
   "source": [
    "from sklearn.preprocessing import Normalizer\n",
    "from sklearn.cluster import KMeans\n",
    "from keras.preprocessing import image\n",
    "from keras.applications.vgg16 import preprocess_input,VGG16\n",
    "import os\n",
    "import numpy as np\n",
    "import pickle\n",
    "from numpy import linalg as LA"
   ]
  },
  {
   "cell_type": "code",
   "execution_count": 79,
   "metadata": {},
   "outputs": [],
   "source": [
    "#使用cnn全连接层之前，并在最后采用pooling使维度变成2D\n",
    "class VGGNet:\n",
    "    def __init__(self):\n",
    "        # weights: 'imagenet'\n",
    "        # pooling: 'max' or 'avg'\n",
    "        # input_shape: (width, height, 3), width and height should >= 48\n",
    "        self.input_shape = (224, 224, 3)\n",
    "        self.weight = 'imagenet'\n",
    "        self.pooling = 'max'\n",
    "        self.model = VGG16(weights = self.weight, input_shape = (self.input_shape[0], self.input_shape[1], self.input_shape[2]), pooling = self.pooling, include_top = False)\n",
    "        self.model.predict(np.zeros((1, 224, 224 , 3)))\n",
    "\n",
    "    \n",
    "    def extract_feat(self, img_path):\n",
    "        img = image.load_img(img_path, target_size=(self.input_shape[0], self.input_shape[1]))\n",
    "        img = image.img_to_array(img)\n",
    "        img = np.expand_dims(img, axis=0)\n",
    "        img = preprocess_input(img)\n",
    "        feat = self.model.predict(img)\n",
    "        norm_feat = feat[0]/LA.norm(feat[0])\n",
    "        return norm_feat"
   ]
  },
  {
   "cell_type": "code",
   "execution_count": 91,
   "metadata": {},
   "outputs": [
    {
     "data": {
      "text/plain": [
       "(None, 512)"
      ]
     },
     "execution_count": 91,
     "metadata": {},
     "output_type": "execute_result"
    }
   ],
   "source": [
    "vgg=VGGNet()\n",
    "vgg.model.output_shape"
   ]
  },
  {
   "cell_type": "code",
   "execution_count": 92,
   "metadata": {},
   "outputs": [],
   "source": [
    "#读取数据集文件\n",
    "feature_pool=[]\n",
    "name=[]\n",
    "for each in os.listdir(r\"/Users/eosrui/图像检索项目指导书与数据/ukbench/full\"):\n",
    "#     print(\"/Users/eosrui/图像检索项目指导书与数据/ukbench/test/\" + each)\n",
    "    feature = vgg.extract_feat(\"/Users/eosrui/图像检索项目指导书与数据/ukbench/full/\"+ each)\n",
    "    feature_pool.append(feature)\n",
    "    name.append(each)\n",
    "    cur_dir=\"/Users/eosrui/图像检索项目指导书与数据/ukbench/feature/\"\n",
    "    folder_name=each[:-4]\n",
    "    dir_new= os.path.join(cur_dir, folder_name)\n",
    "    file_name=dir_new+'.pkl'\n",
    "        \n",
    "    if not os.path.exists(file_name):\n",
    "        with open(file_name,'wb') as file:\n",
    "            pickle.dump(feature, file)\n",
    "    else:\n",
    "        with open(file_name,'rb')as file:\n",
    "            image_feature=pickle.load(file)"
   ]
  },
  {
   "cell_type": "code",
   "execution_count": 93,
   "metadata": {},
   "outputs": [],
   "source": [
    "#feature_list\n",
    "if not os.path.exists(\"feature_list.pkl\"):\n",
    "    feature_list={index:feature for index, feature in enumerate (feature_pool)}\n",
    "    with open('feature_list.pkl','wb') as file:\n",
    "        pickle.dump(feature_list, file)\n",
    "else:\n",
    "    with open('feature_list.pkl','rb') as file:\n",
    "        feature_list = pickle.load(file)"
   ]
  },
  {
   "cell_type": "code",
   "execution_count": 94,
   "metadata": {},
   "outputs": [],
   "source": [
    "#id2name\n",
    "if not os.path.exists(\"id2name.pkl\"):\n",
    "    fname={index:name for index, name in enumerate (name)}\n",
    "    with open('id2name.pkl','wb') as file:\n",
    "        pickle.dump(fname, file)\n",
    "else:\n",
    "    with open('id2name.pkl','rb') as file:\n",
    "        fname = pickle.load(file)"
   ]
  },
  {
   "cell_type": "code",
   "execution_count": 95,
   "metadata": {},
   "outputs": [],
   "source": [
    "#name2id\n",
    "if not os.path.exists(\"name2id.pkl\"):\n",
    "    nameid={name:index for index, name in enumerate (name)}\n",
    "    with open('name2id.pkl','wb') as file:\n",
    "        pickle.dump(nameid, file)\n",
    "else:\n",
    "    with open('name2id.pkl','rb') as file:\n",
    "        nameid = pickle.load(file)"
   ]
  },
  {
   "cell_type": "code",
   "execution_count": 162,
   "metadata": {},
   "outputs": [
    {
     "name": "stdout",
     "output_type": "stream",
     "text": [
      "(512,)\n",
      "<class 'numpy.ndarray'>\n",
      "<class 'numpy.ndarray'>\n",
      "ukbench06964.jpg\n",
      "1\n",
      "10200\n"
     ]
    }
   ],
   "source": [
    "print(feature_list[0].shape)\n",
    "print(type(feature_list[0]))\n",
    "print(type(feature))\n",
    "print(fname[1])\n",
    "print(nameid['ukbench06964.jpg'])\n",
    "print(len(feature_pool))"
   ]
  },
  {
   "cell_type": "code",
   "execution_count": 99,
   "metadata": {},
   "outputs": [
    {
     "name": "stdout",
     "output_type": "stream",
     "text": [
      "10200\n"
     ]
    }
   ],
   "source": [
    "feature_pool2=np.array(feature_pool)\n",
    "print(len(feature_pool))"
   ]
  },
  {
   "cell_type": "code",
   "execution_count": 145,
   "metadata": {},
   "outputs": [
    {
     "name": "stdout",
     "output_type": "stream",
     "text": [
      "5123 5717 7642 3195 6746 6679\n"
     ]
    }
   ],
   "source": [
    "a=nameid['ukbench10188.jpg']\n",
    "b=nameid['ukbench10189.jpg']\n",
    "c=nameid['ukbench10198.jpg']\n",
    "d=nameid['ukbench10196.jpg']\n",
    "g=nameid['ukbench10010.jpg']\n",
    "h=nameid['ukbench10011.jpg']\n",
    "print(a,b,c,d,g,h)"
   ]
  },
  {
   "cell_type": "code",
   "execution_count": 110,
   "metadata": {},
   "outputs": [
    {
     "name": "stdout",
     "output_type": "stream",
     "text": [
      "0.75141 0.7823132\n"
     ]
    }
   ],
   "source": [
    "A=feature_list[5123]\n",
    "B=feature_list[5717]\n",
    "C=feature_list[7642]\n",
    "D=feature_list[3195]\n",
    "# print(A,B,C,D)\n",
    "e=np.dot(B,A.T)\n",
    "f=np.dot(D,C.T)\n",
    "print(e,f)"
   ]
  },
  {
   "cell_type": "code",
   "execution_count": 153,
   "metadata": {},
   "outputs": [
    {
     "name": "stdout",
     "output_type": "stream",
     "text": [
      "[[0.75141007]] [[0.7823132]] [[0.8695486]] [[0.36387017]]\n"
     ]
    }
   ],
   "source": [
    "#feature检查\n",
    "from sklearn.metrics.pairwise import cosine_similarity\n",
    "\n",
    "a=cosine_similarity([feature_list[5123]],[feature_list[5717]])\n",
    "b=cosine_similarity([feature_list[7642]],[feature_list[3195]])\n",
    "c=cosine_similarity([feature_list[6746]],[feature_list[6679]])\n",
    "h=cosine_similarity([feature_list[5123]],[feature_list[1]])\n",
    "print(a,b,c,h)"
   ]
  },
  {
   "cell_type": "code",
   "execution_count": 160,
   "metadata": {},
   "outputs": [
    {
     "name": "stdout",
     "output_type": "stream",
     "text": [
      "[5123, 5098, 5717, 4506]\n"
     ]
    }
   ],
   "source": [
    "import heapq\n",
    "\n",
    "def getListMaxNumIndex(num_list,topk=4):\n",
    "    '''\n",
    "    获取列表中最大的前n个数值的位置索引\n",
    "    '''\n",
    "    max_num_index=list(map(num_list.index, heapq.nlargest(topk,num_list)))\n",
    "    return max_num_index\n",
    "\n",
    "b=[]\n",
    "c=[]\n",
    "for i in range(10200):\n",
    "    a=cosine_similarity([feature_list[5123]],[feature_list[i]])\n",
    "    b.append(a)\n",
    "    c.append(i)\n",
    "    \n",
    "print(getListMaxNumIndex(b))\n"
   ]
  },
  {
   "cell_type": "code",
   "execution_count": 164,
   "metadata": {},
   "outputs": [
    {
     "name": "stdout",
     "output_type": "stream",
     "text": [
      "ukbench10188.jpg ukbench10191.jpg ukbench10189.jpg ukbench10190.jpg\n"
     ]
    }
   ],
   "source": [
    "d=fname[5123]\n",
    "a=fname[5098]\n",
    "b=fname[5717]\n",
    "c=fname[4506]\n",
    "print(d,a,b,c)"
   ]
  }
 ],
 "metadata": {
  "kernelspec": {
   "display_name": "Python 3",
   "language": "python",
   "name": "python3"
  },
  "language_info": {
   "codemirror_mode": {
    "name": "ipython",
    "version": 3
   },
   "file_extension": ".py",
   "mimetype": "text/x-python",
   "name": "python",
   "nbconvert_exporter": "python",
   "pygments_lexer": "ipython3",
   "version": "3.7.3"
  }
 },
 "nbformat": 4,
 "nbformat_minor": 2
}
